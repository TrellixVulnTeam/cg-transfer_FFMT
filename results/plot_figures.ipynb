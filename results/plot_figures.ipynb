{
 "cells": [
  {
   "cell_type": "code",
   "execution_count": 1,
   "source": [
    "library(repr)\n",
    "library(tidyverse)\n",
    "library(broom)\n",
    "\n",
    "df.all <- read.csv('results_finetune.csv')\n",
    "\n",
    "df.all$ptask <- factor(df.all$ptask, levels=c('objdet', 'semseg', 'mulclass', 'normal'))\n",
    "df.all$ftask <- factor(df.all$ftask, levels=c('objdet', 'semseg', 'sinclass'))\n",
    "df.all$model <- factor(df.all$model, levels=c('r18', 'r34', 'r50', 'r101', 'r152'))\n",
    "df.all$fratio <- factor(df.all$fratio, levels=c(1,2,4,7,10,16,32,64,100))"
   ],
   "outputs": [
    {
     "output_type": "stream",
     "name": "stderr",
     "text": [
      "Warning message in system(\"timedatectl\", intern = TRUE):\n",
      "“running command 'timedatectl' had status 1”\n",
      "── \u001b[1mAttaching packages\u001b[22m ─────────────────────────────────────── tidyverse 1.3.0 ──\n",
      "\n",
      "\u001b[32m✔\u001b[39m \u001b[34mggplot2\u001b[39m 3.3.3     \u001b[32m✔\u001b[39m \u001b[34mpurrr  \u001b[39m 0.3.4\n",
      "\u001b[32m✔\u001b[39m \u001b[34mtibble \u001b[39m 3.1.0     \u001b[32m✔\u001b[39m \u001b[34mdplyr  \u001b[39m 1.0.5\n",
      "\u001b[32m✔\u001b[39m \u001b[34mtidyr  \u001b[39m 1.1.3     \u001b[32m✔\u001b[39m \u001b[34mstringr\u001b[39m 1.4.0\n",
      "\u001b[32m✔\u001b[39m \u001b[34mreadr  \u001b[39m 1.4.0     \u001b[32m✔\u001b[39m \u001b[34mforcats\u001b[39m 0.5.1\n",
      "\n",
      "── \u001b[1mConflicts\u001b[22m ────────────────────────────────────────── tidyverse_conflicts() ──\n",
      "\u001b[31m✖\u001b[39m \u001b[34mdplyr\u001b[39m::\u001b[32mfilter()\u001b[39m masks \u001b[34mstats\u001b[39m::filter()\n",
      "\u001b[31m✖\u001b[39m \u001b[34mdplyr\u001b[39m::\u001b[32mlag()\u001b[39m    masks \u001b[34mstats\u001b[39m::lag()\n",
      "\n"
     ]
    }
   ],
   "metadata": {}
  },
  {
   "cell_type": "code",
   "execution_count": 2,
   "source": [
    "get.df.max <- function(df){\n",
    "    df %>% \n",
    "        filter(!is.na(value)) %>%\n",
    "        group_by(across(c(-n_eval, -value))) %>%\n",
    "        mutate(last.value=value[n_eval == max(n_eval)]) %>%\n",
    "        group_by(across(c(-n_eval, -value))) %>%\n",
    "        summarise(max = max(value, na.rm=T)) \n",
    "}\n",
    "fit.scalinglaw <- function(df){\n",
    "    df %>%\n",
    "    mutate(x = pretrain.data, y = 1 - last.value) %>%\n",
    "    group_by(model, ptask, pdata, ftask, fdata, fratio) %>%\n",
    "    nest() %>%\n",
    "    mutate(\n",
    "            fit=map(data, ~ nls(y ~ c + 0.48 * x^-a, data=., start=c(a=0.2, c=0.8), \n",
    "                    alg='port', lower=c(a=0.1, c=0), upper=c(a=1.5, c=1))),        \n",
    "            augmented=map(fit, augment),\n",
    "            tidied=map(fit, tidy),\n",
    "            ) \n",
    "}\n",
    "\n",
    "df.nls <- df.all %>% \n",
    "    get.df.max() %>%\n",
    "    filter(pdata != 'imagenet' & pretrain.data != 0) %>%\n",
    "    filter(fratio == 1) %>%\n",
    "    filter(pscale == '64k') %>%\n",
    "    fit.scalinglaw()\n",
    "    \n",
    "options(repr.plot.width=8, repr.plot.height=4)\n",
    "df.nls %>%\n",
    "    filter(model == 'r50') %>%\n",
    "    filter(pdata == 'bop') %>%\n",
    "    unnest(augmented) %>%\n",
    "    ggplot(aes(x=x, y=y)) +\n",
    "    geom_point() +\n",
    "    geom_line(aes(y=.fitted), linetype=2) +\n",
    "    facet_grid(ftask + fdata ~ ptask, scale='free_y') + \n",
    "    scale_x_log10(\n",
    "        breaks = scales::trans_breaks(\"log10\", function(x) 10^x),\n",
    "        labels = scales::trans_format(\"log10\", scales::math_format(10^.x))\n",
    "    ) +\n",
    "    scale_y_log10() +\n",
    "    xlab('# of pretrain images') +\n",
    "    ylab('test error') +\n",
    "    theme_minimal()"
   ],
   "outputs": [
    {
     "output_type": "stream",
     "name": "stderr",
     "text": [
      "`summarise()` has grouped output by 'pretrain.data', 'pscale', 'ptask', 'fdata', 'fratio', 'ftask', 'model', 'nparam', 'pdata'. You can override using the `.groups` argument.\n",
      "\n"
     ]
    },
    {
     "output_type": "display_data",
     "data": {
      "text/plain": [
       "plot without title"
      ],
      "image/png": ""
     },
     "metadata": {
      "image/png": {
       "width": 480,
       "height": 240
      }
     }
    }
   ],
   "metadata": {}
  }
 ],
 "metadata": {
  "kernelspec": {
   "display_name": "R",
   "language": "R",
   "name": "ir"
  },
  "language_info": {
   "codemirror_mode": "r",
   "file_extension": ".r",
   "mimetype": "text/x-r-source",
   "name": "R",
   "pygments_lexer": "r",
   "version": "3.6.3"
  },
  "orig_nbformat": 2
 },
 "nbformat": 4,
 "nbformat_minor": 2
}